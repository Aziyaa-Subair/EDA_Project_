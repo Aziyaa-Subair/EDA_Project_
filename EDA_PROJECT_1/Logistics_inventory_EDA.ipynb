{
 "cells": [
  {
   "cell_type": "markdown",
   "metadata": {},
   "source": [
    "## SMART LOGISTICS SUPPLY CHAIN DATASET"
   ]
  },
  {
   "cell_type": "markdown",
   "metadata": {},
   "source": [
    "This dataset captures real-time supply chain data gathered from various stages of the logistics process, leveraging Internet of Things (IoT) technologies. It includes information such as transaction IDs, supply chain stages, entities involved, environmental conditions, shipment locations, and delays. The data is designed to assist in predicting delivery statuses, optimizing routes, identifying risk factors, and forecasting potential disruptions. It offers a comprehensive view of the supply chain, enabling businesses to enhance operational efficiency and improve decision-making through predictive analytics."
   ]
  },
  {
   "cell_type": "markdown",
   "metadata": {},
   "source": [
    "## Loading Libraries and Dataset"
   ]
  },
  {
   "cell_type": "code",
   "execution_count": 174,
   "metadata": {},
   "outputs": [
    {
     "name": "stdout",
     "output_type": "stream",
     "text": [
      "               Timestamp  Asset_ID  Latitude  Longitude  Inventory_Level  \\\n",
      "0    2024-03-20 00:11:14   Truck_7  -65.7383    11.2497              390   \n",
      "1    2024-10-30 07:53:51   Truck_6   22.2748  -131.7086              491   \n",
      "2    2024-07-29 18:42:48  Truck_10   54.9232    79.5455              190   \n",
      "3    2024-10-28 00:50:54   Truck_9   42.3900    -1.4788              330   \n",
      "4    2024-09-27 15:52:58   Truck_7  -65.8477    47.9468              480   \n",
      "..                   ...       ...       ...        ...              ...   \n",
      "995  2024-07-22 16:30:00   Truck_6   89.8701    73.6867              264   \n",
      "996  2024-04-30 04:58:58   Truck_5  -10.4792  -177.1239              479   \n",
      "997  2024-10-27 22:09:13   Truck_2  -71.0609    75.3714              347   \n",
      "998  2024-04-18 23:06:56   Truck_2  -76.7910    18.3631              276   \n",
      "999  2024-09-18 19:39:24   Truck_8   59.8356  -114.4198              157   \n",
      "\n",
      "    Shipment_Status  Temperature  Humidity Traffic_Status  Waiting_Time  \\\n",
      "0           Delayed         27.0      67.8         Detour            38   \n",
      "1        In Transit         22.5      54.3          Heavy            16   \n",
      "2        In Transit         25.2      62.2         Detour            34   \n",
      "3         Delivered         25.4      52.3          Heavy            37   \n",
      "4           Delayed         20.5      57.2          Clear            56   \n",
      "..              ...          ...       ...            ...           ...   \n",
      "995       Delivered         26.9      70.0          Heavy            32   \n",
      "996       Delivered         23.7      77.9         Detour            56   \n",
      "997      In Transit         21.0      63.1         Detour            35   \n",
      "998       Delivered         18.0      64.3          Heavy            10   \n",
      "999         Delayed         18.7      73.6          Clear            55   \n",
      "\n",
      "     User_Transaction_Amount  User_Purchase_Frequency Logistics_Delay_Reason  \\\n",
      "0                        320                        4                   None   \n",
      "1                        439                        7                Weather   \n",
      "2                        355                        3                   None   \n",
      "3                        227                        5                Traffic   \n",
      "4                        197                        6                   None   \n",
      "..                       ...                      ...                    ...   \n",
      "995                      188                        1                Weather   \n",
      "996                      276                        7                Weather   \n",
      "997                      382                        5                   None   \n",
      "998                      361                        5                   None   \n",
      "999                      323                        9     Mechanical Failure   \n",
      "\n",
      "     Asset_Utilization  Demand_Forecast  Logistics_Delay  \n",
      "0                 60.1              285                1  \n",
      "1                 80.9              174                1  \n",
      "2                 99.2              260                0  \n",
      "3                 97.4              160                1  \n",
      "4                 71.6              270                1  \n",
      "..                 ...              ...              ...  \n",
      "995               79.2              213                1  \n",
      "996               83.7              272                0  \n",
      "997               74.8              275                0  \n",
      "998               88.6              242                1  \n",
      "999               81.3              141                1  \n",
      "\n",
      "[1000 rows x 16 columns]\n"
     ]
    }
   ],
   "source": [
    "import pandas as pd\n",
    "import numpy as np\n",
    "df = pd.read_csv(\"D:\\Datascience\\Datasets\\smart_logistics_dataset.csv\")\n",
    "print(df)"
   ]
  },
  {
   "cell_type": "markdown",
   "metadata": {},
   "source": [
    "## DATA CLEANING"
   ]
  },
  {
   "cell_type": "code",
   "execution_count": 175,
   "metadata": {},
   "outputs": [
    {
     "name": "stdout",
     "output_type": "stream",
     "text": [
      "<class 'pandas.core.frame.DataFrame'>\n",
      "RangeIndex: 1000 entries, 0 to 999\n",
      "Data columns (total 16 columns):\n",
      " #   Column                   Non-Null Count  Dtype  \n",
      "---  ------                   --------------  -----  \n",
      " 0   Timestamp                1000 non-null   object \n",
      " 1   Asset_ID                 1000 non-null   object \n",
      " 2   Latitude                 1000 non-null   float64\n",
      " 3   Longitude                1000 non-null   float64\n",
      " 4   Inventory_Level          1000 non-null   int64  \n",
      " 5   Shipment_Status          1000 non-null   object \n",
      " 6   Temperature              1000 non-null   float64\n",
      " 7   Humidity                 1000 non-null   float64\n",
      " 8   Traffic_Status           1000 non-null   object \n",
      " 9   Waiting_Time             1000 non-null   int64  \n",
      " 10  User_Transaction_Amount  1000 non-null   int64  \n",
      " 11  User_Purchase_Frequency  1000 non-null   int64  \n",
      " 12  Logistics_Delay_Reason   1000 non-null   object \n",
      " 13  Asset_Utilization        1000 non-null   float64\n",
      " 14  Demand_Forecast          1000 non-null   int64  \n",
      " 15  Logistics_Delay          1000 non-null   int64  \n",
      "dtypes: float64(5), int64(6), object(5)\n",
      "memory usage: 125.1+ KB\n"
     ]
    }
   ],
   "source": [
    "df.info()"
   ]
  },
  {
   "cell_type": "code",
   "execution_count": 176,
   "metadata": {},
   "outputs": [
    {
     "data": {
      "text/html": [
       "<div>\n",
       "<style scoped>\n",
       "    .dataframe tbody tr th:only-of-type {\n",
       "        vertical-align: middle;\n",
       "    }\n",
       "\n",
       "    .dataframe tbody tr th {\n",
       "        vertical-align: top;\n",
       "    }\n",
       "\n",
       "    .dataframe thead th {\n",
       "        text-align: right;\n",
       "    }\n",
       "</style>\n",
       "<table border=\"1\" class=\"dataframe\">\n",
       "  <thead>\n",
       "    <tr style=\"text-align: right;\">\n",
       "      <th></th>\n",
       "      <th>Timestamp</th>\n",
       "      <th>Asset_ID</th>\n",
       "      <th>Latitude</th>\n",
       "      <th>Longitude</th>\n",
       "      <th>Inventory_Level</th>\n",
       "      <th>Shipment_Status</th>\n",
       "      <th>Temperature</th>\n",
       "      <th>Humidity</th>\n",
       "      <th>Traffic_Status</th>\n",
       "      <th>Waiting_Time</th>\n",
       "      <th>User_Transaction_Amount</th>\n",
       "      <th>User_Purchase_Frequency</th>\n",
       "      <th>Logistics_Delay_Reason</th>\n",
       "      <th>Asset_Utilization</th>\n",
       "      <th>Demand_Forecast</th>\n",
       "      <th>Logistics_Delay</th>\n",
       "    </tr>\n",
       "  </thead>\n",
       "  <tbody>\n",
       "    <tr>\n",
       "      <th>0</th>\n",
       "      <td>2024-03-20 00:11:14</td>\n",
       "      <td>Truck_7</td>\n",
       "      <td>-65.7383</td>\n",
       "      <td>11.2497</td>\n",
       "      <td>390</td>\n",
       "      <td>Delayed</td>\n",
       "      <td>27.0</td>\n",
       "      <td>67.8</td>\n",
       "      <td>Detour</td>\n",
       "      <td>38</td>\n",
       "      <td>320</td>\n",
       "      <td>4</td>\n",
       "      <td>None</td>\n",
       "      <td>60.1</td>\n",
       "      <td>285</td>\n",
       "      <td>1</td>\n",
       "    </tr>\n",
       "    <tr>\n",
       "      <th>1</th>\n",
       "      <td>2024-10-30 07:53:51</td>\n",
       "      <td>Truck_6</td>\n",
       "      <td>22.2748</td>\n",
       "      <td>-131.7086</td>\n",
       "      <td>491</td>\n",
       "      <td>In Transit</td>\n",
       "      <td>22.5</td>\n",
       "      <td>54.3</td>\n",
       "      <td>Heavy</td>\n",
       "      <td>16</td>\n",
       "      <td>439</td>\n",
       "      <td>7</td>\n",
       "      <td>Weather</td>\n",
       "      <td>80.9</td>\n",
       "      <td>174</td>\n",
       "      <td>1</td>\n",
       "    </tr>\n",
       "    <tr>\n",
       "      <th>2</th>\n",
       "      <td>2024-07-29 18:42:48</td>\n",
       "      <td>Truck_10</td>\n",
       "      <td>54.9232</td>\n",
       "      <td>79.5455</td>\n",
       "      <td>190</td>\n",
       "      <td>In Transit</td>\n",
       "      <td>25.2</td>\n",
       "      <td>62.2</td>\n",
       "      <td>Detour</td>\n",
       "      <td>34</td>\n",
       "      <td>355</td>\n",
       "      <td>3</td>\n",
       "      <td>None</td>\n",
       "      <td>99.2</td>\n",
       "      <td>260</td>\n",
       "      <td>0</td>\n",
       "    </tr>\n",
       "    <tr>\n",
       "      <th>3</th>\n",
       "      <td>2024-10-28 00:50:54</td>\n",
       "      <td>Truck_9</td>\n",
       "      <td>42.3900</td>\n",
       "      <td>-1.4788</td>\n",
       "      <td>330</td>\n",
       "      <td>Delivered</td>\n",
       "      <td>25.4</td>\n",
       "      <td>52.3</td>\n",
       "      <td>Heavy</td>\n",
       "      <td>37</td>\n",
       "      <td>227</td>\n",
       "      <td>5</td>\n",
       "      <td>Traffic</td>\n",
       "      <td>97.4</td>\n",
       "      <td>160</td>\n",
       "      <td>1</td>\n",
       "    </tr>\n",
       "    <tr>\n",
       "      <th>4</th>\n",
       "      <td>2024-09-27 15:52:58</td>\n",
       "      <td>Truck_7</td>\n",
       "      <td>-65.8477</td>\n",
       "      <td>47.9468</td>\n",
       "      <td>480</td>\n",
       "      <td>Delayed</td>\n",
       "      <td>20.5</td>\n",
       "      <td>57.2</td>\n",
       "      <td>Clear</td>\n",
       "      <td>56</td>\n",
       "      <td>197</td>\n",
       "      <td>6</td>\n",
       "      <td>None</td>\n",
       "      <td>71.6</td>\n",
       "      <td>270</td>\n",
       "      <td>1</td>\n",
       "    </tr>\n",
       "  </tbody>\n",
       "</table>\n",
       "</div>"
      ],
      "text/plain": [
       "             Timestamp  Asset_ID  Latitude  Longitude  Inventory_Level  \\\n",
       "0  2024-03-20 00:11:14   Truck_7  -65.7383    11.2497              390   \n",
       "1  2024-10-30 07:53:51   Truck_6   22.2748  -131.7086              491   \n",
       "2  2024-07-29 18:42:48  Truck_10   54.9232    79.5455              190   \n",
       "3  2024-10-28 00:50:54   Truck_9   42.3900    -1.4788              330   \n",
       "4  2024-09-27 15:52:58   Truck_7  -65.8477    47.9468              480   \n",
       "\n",
       "  Shipment_Status  Temperature  Humidity Traffic_Status  Waiting_Time  \\\n",
       "0         Delayed         27.0      67.8         Detour            38   \n",
       "1      In Transit         22.5      54.3          Heavy            16   \n",
       "2      In Transit         25.2      62.2         Detour            34   \n",
       "3       Delivered         25.4      52.3          Heavy            37   \n",
       "4         Delayed         20.5      57.2          Clear            56   \n",
       "\n",
       "   User_Transaction_Amount  User_Purchase_Frequency Logistics_Delay_Reason  \\\n",
       "0                      320                        4                   None   \n",
       "1                      439                        7                Weather   \n",
       "2                      355                        3                   None   \n",
       "3                      227                        5                Traffic   \n",
       "4                      197                        6                   None   \n",
       "\n",
       "   Asset_Utilization  Demand_Forecast  Logistics_Delay  \n",
       "0               60.1              285                1  \n",
       "1               80.9              174                1  \n",
       "2               99.2              260                0  \n",
       "3               97.4              160                1  \n",
       "4               71.6              270                1  "
      ]
     },
     "execution_count": 176,
     "metadata": {},
     "output_type": "execute_result"
    }
   ],
   "source": [
    "df.head()"
   ]
  },
  {
   "cell_type": "code",
   "execution_count": 177,
   "metadata": {},
   "outputs": [
    {
     "data": {
      "text/plain": [
       "Timestamp                  0\n",
       "Asset_ID                   0\n",
       "Latitude                   0\n",
       "Longitude                  0\n",
       "Inventory_Level            0\n",
       "Shipment_Status            0\n",
       "Temperature                0\n",
       "Humidity                   0\n",
       "Traffic_Status             0\n",
       "Waiting_Time               0\n",
       "User_Transaction_Amount    0\n",
       "User_Purchase_Frequency    0\n",
       "Logistics_Delay_Reason     0\n",
       "Asset_Utilization          0\n",
       "Demand_Forecast            0\n",
       "Logistics_Delay            0\n",
       "dtype: int64"
      ]
     },
     "execution_count": 177,
     "metadata": {},
     "output_type": "execute_result"
    }
   ],
   "source": [
    "df.isnull().sum()"
   ]
  },
  {
   "cell_type": "code",
   "execution_count": 178,
   "metadata": {},
   "outputs": [],
   "source": [
    "df.columns =  df.columns.str.capitalize()"
   ]
  },
  {
   "cell_type": "code",
   "execution_count": 179,
   "metadata": {},
   "outputs": [],
   "source": [
    "df = df.apply(lambda x : x.str.lower() if x.dtype == 'object' else x)"
   ]
  },
  {
   "cell_type": "code",
   "execution_count": 180,
   "metadata": {},
   "outputs": [
    {
     "data": {
      "text/plain": [
       "0      False\n",
       "1      False\n",
       "2      False\n",
       "3      False\n",
       "4      False\n",
       "       ...  \n",
       "995    False\n",
       "996    False\n",
       "997    False\n",
       "998    False\n",
       "999    False\n",
       "Length: 1000, dtype: bool"
      ]
     },
     "execution_count": 180,
     "metadata": {},
     "output_type": "execute_result"
    }
   ],
   "source": [
    "df.duplicated()"
   ]
  },
  {
   "cell_type": "code",
   "execution_count": 181,
   "metadata": {},
   "outputs": [
    {
     "data": {
      "text/plain": [
       "0"
      ]
     },
     "execution_count": 181,
     "metadata": {},
     "output_type": "execute_result"
    }
   ],
   "source": [
    "df.duplicated().sum()"
   ]
  },
  {
   "cell_type": "code",
   "execution_count": 182,
   "metadata": {},
   "outputs": [
    {
     "data": {
      "text/html": [
       "<div>\n",
       "<style scoped>\n",
       "    .dataframe tbody tr th:only-of-type {\n",
       "        vertical-align: middle;\n",
       "    }\n",
       "\n",
       "    .dataframe tbody tr th {\n",
       "        vertical-align: top;\n",
       "    }\n",
       "\n",
       "    .dataframe thead th {\n",
       "        text-align: right;\n",
       "    }\n",
       "</style>\n",
       "<table border=\"1\" class=\"dataframe\">\n",
       "  <thead>\n",
       "    <tr style=\"text-align: right;\">\n",
       "      <th></th>\n",
       "      <th>Timestamp</th>\n",
       "      <th>Asset_id</th>\n",
       "      <th>Latitude</th>\n",
       "      <th>Longitude</th>\n",
       "      <th>Inventory_level</th>\n",
       "      <th>Shipment_status</th>\n",
       "      <th>Temperature</th>\n",
       "      <th>Humidity</th>\n",
       "      <th>Traffic_status</th>\n",
       "      <th>Waiting_time</th>\n",
       "      <th>User_transaction_amount</th>\n",
       "      <th>User_purchase_frequency</th>\n",
       "      <th>Logistics_delay_reason</th>\n",
       "      <th>Asset_utilization</th>\n",
       "      <th>Demand_forecast</th>\n",
       "      <th>Logistics_delay</th>\n",
       "    </tr>\n",
       "  </thead>\n",
       "  <tbody>\n",
       "    <tr>\n",
       "      <th>0</th>\n",
       "      <td>2024-03-20 00:11:14</td>\n",
       "      <td>truck_7</td>\n",
       "      <td>-65.7383</td>\n",
       "      <td>11.2497</td>\n",
       "      <td>390</td>\n",
       "      <td>delayed</td>\n",
       "      <td>27.0</td>\n",
       "      <td>67.8</td>\n",
       "      <td>detour</td>\n",
       "      <td>38</td>\n",
       "      <td>320</td>\n",
       "      <td>4</td>\n",
       "      <td>none</td>\n",
       "      <td>60.1</td>\n",
       "      <td>285</td>\n",
       "      <td>1</td>\n",
       "    </tr>\n",
       "    <tr>\n",
       "      <th>1</th>\n",
       "      <td>2024-10-30 07:53:51</td>\n",
       "      <td>truck_6</td>\n",
       "      <td>22.2748</td>\n",
       "      <td>-131.7086</td>\n",
       "      <td>491</td>\n",
       "      <td>in transit</td>\n",
       "      <td>22.5</td>\n",
       "      <td>54.3</td>\n",
       "      <td>heavy</td>\n",
       "      <td>16</td>\n",
       "      <td>439</td>\n",
       "      <td>7</td>\n",
       "      <td>weather</td>\n",
       "      <td>80.9</td>\n",
       "      <td>174</td>\n",
       "      <td>1</td>\n",
       "    </tr>\n",
       "    <tr>\n",
       "      <th>2</th>\n",
       "      <td>2024-07-29 18:42:48</td>\n",
       "      <td>truck_10</td>\n",
       "      <td>54.9232</td>\n",
       "      <td>79.5455</td>\n",
       "      <td>190</td>\n",
       "      <td>in transit</td>\n",
       "      <td>25.2</td>\n",
       "      <td>62.2</td>\n",
       "      <td>detour</td>\n",
       "      <td>34</td>\n",
       "      <td>355</td>\n",
       "      <td>3</td>\n",
       "      <td>none</td>\n",
       "      <td>99.2</td>\n",
       "      <td>260</td>\n",
       "      <td>0</td>\n",
       "    </tr>\n",
       "    <tr>\n",
       "      <th>3</th>\n",
       "      <td>2024-10-28 00:50:54</td>\n",
       "      <td>truck_9</td>\n",
       "      <td>42.3900</td>\n",
       "      <td>-1.4788</td>\n",
       "      <td>330</td>\n",
       "      <td>delivered</td>\n",
       "      <td>25.4</td>\n",
       "      <td>52.3</td>\n",
       "      <td>heavy</td>\n",
       "      <td>37</td>\n",
       "      <td>227</td>\n",
       "      <td>5</td>\n",
       "      <td>traffic</td>\n",
       "      <td>97.4</td>\n",
       "      <td>160</td>\n",
       "      <td>1</td>\n",
       "    </tr>\n",
       "    <tr>\n",
       "      <th>4</th>\n",
       "      <td>2024-09-27 15:52:58</td>\n",
       "      <td>truck_7</td>\n",
       "      <td>-65.8477</td>\n",
       "      <td>47.9468</td>\n",
       "      <td>480</td>\n",
       "      <td>delayed</td>\n",
       "      <td>20.5</td>\n",
       "      <td>57.2</td>\n",
       "      <td>clear</td>\n",
       "      <td>56</td>\n",
       "      <td>197</td>\n",
       "      <td>6</td>\n",
       "      <td>none</td>\n",
       "      <td>71.6</td>\n",
       "      <td>270</td>\n",
       "      <td>1</td>\n",
       "    </tr>\n",
       "  </tbody>\n",
       "</table>\n",
       "</div>"
      ],
      "text/plain": [
       "             Timestamp  Asset_id  Latitude  Longitude  Inventory_level  \\\n",
       "0  2024-03-20 00:11:14   truck_7  -65.7383    11.2497              390   \n",
       "1  2024-10-30 07:53:51   truck_6   22.2748  -131.7086              491   \n",
       "2  2024-07-29 18:42:48  truck_10   54.9232    79.5455              190   \n",
       "3  2024-10-28 00:50:54   truck_9   42.3900    -1.4788              330   \n",
       "4  2024-09-27 15:52:58   truck_7  -65.8477    47.9468              480   \n",
       "\n",
       "  Shipment_status  Temperature  Humidity Traffic_status  Waiting_time  \\\n",
       "0         delayed         27.0      67.8         detour            38   \n",
       "1      in transit         22.5      54.3          heavy            16   \n",
       "2      in transit         25.2      62.2         detour            34   \n",
       "3       delivered         25.4      52.3          heavy            37   \n",
       "4         delayed         20.5      57.2          clear            56   \n",
       "\n",
       "   User_transaction_amount  User_purchase_frequency Logistics_delay_reason  \\\n",
       "0                      320                        4                   none   \n",
       "1                      439                        7                weather   \n",
       "2                      355                        3                   none   \n",
       "3                      227                        5                traffic   \n",
       "4                      197                        6                   none   \n",
       "\n",
       "   Asset_utilization  Demand_forecast  Logistics_delay  \n",
       "0               60.1              285                1  \n",
       "1               80.9              174                1  \n",
       "2               99.2              260                0  \n",
       "3               97.4              160                1  \n",
       "4               71.6              270                1  "
      ]
     },
     "execution_count": 182,
     "metadata": {},
     "output_type": "execute_result"
    }
   ],
   "source": [
    "df.head()"
   ]
  },
  {
   "cell_type": "code",
   "execution_count": 183,
   "metadata": {},
   "outputs": [],
   "source": [
    "df['Timestamp'] = pd.to_datetime(df['Timestamp'])"
   ]
  },
  {
   "cell_type": "code",
   "execution_count": 184,
   "metadata": {},
   "outputs": [
    {
     "name": "stdout",
     "output_type": "stream",
     "text": [
      "<class 'pandas.core.frame.DataFrame'>\n",
      "RangeIndex: 1000 entries, 0 to 999\n",
      "Data columns (total 16 columns):\n",
      " #   Column                   Non-Null Count  Dtype         \n",
      "---  ------                   --------------  -----         \n",
      " 0   Timestamp                1000 non-null   datetime64[ns]\n",
      " 1   Asset_id                 1000 non-null   object        \n",
      " 2   Latitude                 1000 non-null   float64       \n",
      " 3   Longitude                1000 non-null   float64       \n",
      " 4   Inventory_level          1000 non-null   int64         \n",
      " 5   Shipment_status          1000 non-null   object        \n",
      " 6   Temperature              1000 non-null   float64       \n",
      " 7   Humidity                 1000 non-null   float64       \n",
      " 8   Traffic_status           1000 non-null   object        \n",
      " 9   Waiting_time             1000 non-null   int64         \n",
      " 10  User_transaction_amount  1000 non-null   int64         \n",
      " 11  User_purchase_frequency  1000 non-null   int64         \n",
      " 12  Logistics_delay_reason   1000 non-null   object        \n",
      " 13  Asset_utilization        1000 non-null   float64       \n",
      " 14  Demand_forecast          1000 non-null   int64         \n",
      " 15  Logistics_delay          1000 non-null   int64         \n",
      "dtypes: datetime64[ns](1), float64(5), int64(6), object(4)\n",
      "memory usage: 125.1+ KB\n"
     ]
    }
   ],
   "source": [
    "df.info()"
   ]
  },
  {
   "cell_type": "markdown",
   "metadata": {},
   "source": [
    "Round the decimal values"
   ]
  },
  {
   "cell_type": "code",
   "execution_count": 185,
   "metadata": {},
   "outputs": [],
   "source": [
    "df = df.round(2)"
   ]
  },
  {
   "cell_type": "code",
   "execution_count": 186,
   "metadata": {},
   "outputs": [
    {
     "data": {
      "text/html": [
       "<div>\n",
       "<style scoped>\n",
       "    .dataframe tbody tr th:only-of-type {\n",
       "        vertical-align: middle;\n",
       "    }\n",
       "\n",
       "    .dataframe tbody tr th {\n",
       "        vertical-align: top;\n",
       "    }\n",
       "\n",
       "    .dataframe thead th {\n",
       "        text-align: right;\n",
       "    }\n",
       "</style>\n",
       "<table border=\"1\" class=\"dataframe\">\n",
       "  <thead>\n",
       "    <tr style=\"text-align: right;\">\n",
       "      <th></th>\n",
       "      <th>Timestamp</th>\n",
       "      <th>Asset_id</th>\n",
       "      <th>Latitude</th>\n",
       "      <th>Longitude</th>\n",
       "      <th>Inventory_level</th>\n",
       "      <th>Shipment_status</th>\n",
       "      <th>Temperature</th>\n",
       "      <th>Humidity</th>\n",
       "      <th>Traffic_status</th>\n",
       "      <th>Waiting_time</th>\n",
       "      <th>User_transaction_amount</th>\n",
       "      <th>User_purchase_frequency</th>\n",
       "      <th>Logistics_delay_reason</th>\n",
       "      <th>Asset_utilization</th>\n",
       "      <th>Demand_forecast</th>\n",
       "      <th>Logistics_delay</th>\n",
       "    </tr>\n",
       "  </thead>\n",
       "  <tbody>\n",
       "    <tr>\n",
       "      <th>0</th>\n",
       "      <td>2024-03-20 00:11:14</td>\n",
       "      <td>truck_7</td>\n",
       "      <td>-65.74</td>\n",
       "      <td>11.25</td>\n",
       "      <td>390</td>\n",
       "      <td>delayed</td>\n",
       "      <td>27.0</td>\n",
       "      <td>67.8</td>\n",
       "      <td>detour</td>\n",
       "      <td>38</td>\n",
       "      <td>320</td>\n",
       "      <td>4</td>\n",
       "      <td>none</td>\n",
       "      <td>60.1</td>\n",
       "      <td>285</td>\n",
       "      <td>1</td>\n",
       "    </tr>\n",
       "    <tr>\n",
       "      <th>1</th>\n",
       "      <td>2024-10-30 07:53:51</td>\n",
       "      <td>truck_6</td>\n",
       "      <td>22.27</td>\n",
       "      <td>-131.71</td>\n",
       "      <td>491</td>\n",
       "      <td>in transit</td>\n",
       "      <td>22.5</td>\n",
       "      <td>54.3</td>\n",
       "      <td>heavy</td>\n",
       "      <td>16</td>\n",
       "      <td>439</td>\n",
       "      <td>7</td>\n",
       "      <td>weather</td>\n",
       "      <td>80.9</td>\n",
       "      <td>174</td>\n",
       "      <td>1</td>\n",
       "    </tr>\n",
       "    <tr>\n",
       "      <th>2</th>\n",
       "      <td>2024-07-29 18:42:48</td>\n",
       "      <td>truck_10</td>\n",
       "      <td>54.92</td>\n",
       "      <td>79.55</td>\n",
       "      <td>190</td>\n",
       "      <td>in transit</td>\n",
       "      <td>25.2</td>\n",
       "      <td>62.2</td>\n",
       "      <td>detour</td>\n",
       "      <td>34</td>\n",
       "      <td>355</td>\n",
       "      <td>3</td>\n",
       "      <td>none</td>\n",
       "      <td>99.2</td>\n",
       "      <td>260</td>\n",
       "      <td>0</td>\n",
       "    </tr>\n",
       "    <tr>\n",
       "      <th>3</th>\n",
       "      <td>2024-10-28 00:50:54</td>\n",
       "      <td>truck_9</td>\n",
       "      <td>42.39</td>\n",
       "      <td>-1.48</td>\n",
       "      <td>330</td>\n",
       "      <td>delivered</td>\n",
       "      <td>25.4</td>\n",
       "      <td>52.3</td>\n",
       "      <td>heavy</td>\n",
       "      <td>37</td>\n",
       "      <td>227</td>\n",
       "      <td>5</td>\n",
       "      <td>traffic</td>\n",
       "      <td>97.4</td>\n",
       "      <td>160</td>\n",
       "      <td>1</td>\n",
       "    </tr>\n",
       "    <tr>\n",
       "      <th>4</th>\n",
       "      <td>2024-09-27 15:52:58</td>\n",
       "      <td>truck_7</td>\n",
       "      <td>-65.85</td>\n",
       "      <td>47.95</td>\n",
       "      <td>480</td>\n",
       "      <td>delayed</td>\n",
       "      <td>20.5</td>\n",
       "      <td>57.2</td>\n",
       "      <td>clear</td>\n",
       "      <td>56</td>\n",
       "      <td>197</td>\n",
       "      <td>6</td>\n",
       "      <td>none</td>\n",
       "      <td>71.6</td>\n",
       "      <td>270</td>\n",
       "      <td>1</td>\n",
       "    </tr>\n",
       "  </tbody>\n",
       "</table>\n",
       "</div>"
      ],
      "text/plain": [
       "            Timestamp  Asset_id  Latitude  Longitude  Inventory_level  \\\n",
       "0 2024-03-20 00:11:14   truck_7    -65.74      11.25              390   \n",
       "1 2024-10-30 07:53:51   truck_6     22.27    -131.71              491   \n",
       "2 2024-07-29 18:42:48  truck_10     54.92      79.55              190   \n",
       "3 2024-10-28 00:50:54   truck_9     42.39      -1.48              330   \n",
       "4 2024-09-27 15:52:58   truck_7    -65.85      47.95              480   \n",
       "\n",
       "  Shipment_status  Temperature  Humidity Traffic_status  Waiting_time  \\\n",
       "0         delayed         27.0      67.8         detour            38   \n",
       "1      in transit         22.5      54.3          heavy            16   \n",
       "2      in transit         25.2      62.2         detour            34   \n",
       "3       delivered         25.4      52.3          heavy            37   \n",
       "4         delayed         20.5      57.2          clear            56   \n",
       "\n",
       "   User_transaction_amount  User_purchase_frequency Logistics_delay_reason  \\\n",
       "0                      320                        4                   none   \n",
       "1                      439                        7                weather   \n",
       "2                      355                        3                   none   \n",
       "3                      227                        5                traffic   \n",
       "4                      197                        6                   none   \n",
       "\n",
       "   Asset_utilization  Demand_forecast  Logistics_delay  \n",
       "0               60.1              285                1  \n",
       "1               80.9              174                1  \n",
       "2               99.2              260                0  \n",
       "3               97.4              160                1  \n",
       "4               71.6              270                1  "
      ]
     },
     "execution_count": 186,
     "metadata": {},
     "output_type": "execute_result"
    }
   ],
   "source": [
    "df.head()"
   ]
  },
  {
   "cell_type": "markdown",
   "metadata": {},
   "source": [
    "## STATISCTICAL ANALYSIS"
   ]
  },
  {
   "cell_type": "code",
   "execution_count": 187,
   "metadata": {},
   "outputs": [
    {
     "name": "stderr",
     "output_type": "stream",
     "text": [
      "C:\\Users\\aziya\\AppData\\Local\\Temp\\ipykernel_7864\\1134722465.py:1: FutureWarning: The default value of numeric_only in DataFrame.corr is deprecated. In a future version, it will default to False. Select only valid columns or specify the value of numeric_only to silence this warning.\n",
      "  df.corr()\n"
     ]
    },
    {
     "data": {
      "text/html": [
       "<div>\n",
       "<style scoped>\n",
       "    .dataframe tbody tr th:only-of-type {\n",
       "        vertical-align: middle;\n",
       "    }\n",
       "\n",
       "    .dataframe tbody tr th {\n",
       "        vertical-align: top;\n",
       "    }\n",
       "\n",
       "    .dataframe thead th {\n",
       "        text-align: right;\n",
       "    }\n",
       "</style>\n",
       "<table border=\"1\" class=\"dataframe\">\n",
       "  <thead>\n",
       "    <tr style=\"text-align: right;\">\n",
       "      <th></th>\n",
       "      <th>Latitude</th>\n",
       "      <th>Longitude</th>\n",
       "      <th>Inventory_level</th>\n",
       "      <th>Temperature</th>\n",
       "      <th>Humidity</th>\n",
       "      <th>Waiting_time</th>\n",
       "      <th>User_transaction_amount</th>\n",
       "      <th>User_purchase_frequency</th>\n",
       "      <th>Asset_utilization</th>\n",
       "      <th>Demand_forecast</th>\n",
       "      <th>Logistics_delay</th>\n",
       "    </tr>\n",
       "  </thead>\n",
       "  <tbody>\n",
       "    <tr>\n",
       "      <th>Latitude</th>\n",
       "      <td>1.000000</td>\n",
       "      <td>-0.000506</td>\n",
       "      <td>0.014805</td>\n",
       "      <td>-0.018831</td>\n",
       "      <td>-0.030202</td>\n",
       "      <td>-0.025667</td>\n",
       "      <td>-0.035171</td>\n",
       "      <td>0.003925</td>\n",
       "      <td>-0.023605</td>\n",
       "      <td>0.022111</td>\n",
       "      <td>0.039635</td>\n",
       "    </tr>\n",
       "    <tr>\n",
       "      <th>Longitude</th>\n",
       "      <td>-0.000506</td>\n",
       "      <td>1.000000</td>\n",
       "      <td>-0.023186</td>\n",
       "      <td>0.007387</td>\n",
       "      <td>0.031622</td>\n",
       "      <td>0.031939</td>\n",
       "      <td>-0.019753</td>\n",
       "      <td>-0.036787</td>\n",
       "      <td>0.002915</td>\n",
       "      <td>0.098411</td>\n",
       "      <td>0.011796</td>\n",
       "    </tr>\n",
       "    <tr>\n",
       "      <th>Inventory_level</th>\n",
       "      <td>0.014805</td>\n",
       "      <td>-0.023186</td>\n",
       "      <td>1.000000</td>\n",
       "      <td>-0.021061</td>\n",
       "      <td>0.013395</td>\n",
       "      <td>-0.020337</td>\n",
       "      <td>-0.036785</td>\n",
       "      <td>-0.019701</td>\n",
       "      <td>0.017041</td>\n",
       "      <td>-0.016727</td>\n",
       "      <td>-0.003340</td>\n",
       "    </tr>\n",
       "    <tr>\n",
       "      <th>Temperature</th>\n",
       "      <td>-0.018831</td>\n",
       "      <td>0.007387</td>\n",
       "      <td>-0.021061</td>\n",
       "      <td>1.000000</td>\n",
       "      <td>-0.022674</td>\n",
       "      <td>0.017392</td>\n",
       "      <td>-0.006377</td>\n",
       "      <td>-0.017139</td>\n",
       "      <td>0.046005</td>\n",
       "      <td>-0.010425</td>\n",
       "      <td>-0.038067</td>\n",
       "    </tr>\n",
       "    <tr>\n",
       "      <th>Humidity</th>\n",
       "      <td>-0.030202</td>\n",
       "      <td>0.031622</td>\n",
       "      <td>0.013395</td>\n",
       "      <td>-0.022674</td>\n",
       "      <td>1.000000</td>\n",
       "      <td>0.029030</td>\n",
       "      <td>-0.034828</td>\n",
       "      <td>0.023341</td>\n",
       "      <td>-0.030637</td>\n",
       "      <td>-0.005887</td>\n",
       "      <td>-0.000504</td>\n",
       "    </tr>\n",
       "    <tr>\n",
       "      <th>Waiting_time</th>\n",
       "      <td>-0.025667</td>\n",
       "      <td>0.031939</td>\n",
       "      <td>-0.020337</td>\n",
       "      <td>0.017392</td>\n",
       "      <td>0.029030</td>\n",
       "      <td>1.000000</td>\n",
       "      <td>-0.017796</td>\n",
       "      <td>0.023582</td>\n",
       "      <td>0.018008</td>\n",
       "      <td>-0.030042</td>\n",
       "      <td>-0.063036</td>\n",
       "    </tr>\n",
       "    <tr>\n",
       "      <th>User_transaction_amount</th>\n",
       "      <td>-0.035171</td>\n",
       "      <td>-0.019753</td>\n",
       "      <td>-0.036785</td>\n",
       "      <td>-0.006377</td>\n",
       "      <td>-0.034828</td>\n",
       "      <td>-0.017796</td>\n",
       "      <td>1.000000</td>\n",
       "      <td>0.038406</td>\n",
       "      <td>0.038607</td>\n",
       "      <td>0.004531</td>\n",
       "      <td>0.013605</td>\n",
       "    </tr>\n",
       "    <tr>\n",
       "      <th>User_purchase_frequency</th>\n",
       "      <td>0.003925</td>\n",
       "      <td>-0.036787</td>\n",
       "      <td>-0.019701</td>\n",
       "      <td>-0.017139</td>\n",
       "      <td>0.023341</td>\n",
       "      <td>0.023582</td>\n",
       "      <td>0.038406</td>\n",
       "      <td>1.000000</td>\n",
       "      <td>0.024445</td>\n",
       "      <td>-0.082900</td>\n",
       "      <td>-0.017439</td>\n",
       "    </tr>\n",
       "    <tr>\n",
       "      <th>Asset_utilization</th>\n",
       "      <td>-0.023605</td>\n",
       "      <td>0.002915</td>\n",
       "      <td>0.017041</td>\n",
       "      <td>0.046005</td>\n",
       "      <td>-0.030637</td>\n",
       "      <td>0.018008</td>\n",
       "      <td>0.038607</td>\n",
       "      <td>0.024445</td>\n",
       "      <td>1.000000</td>\n",
       "      <td>-0.077926</td>\n",
       "      <td>-0.003140</td>\n",
       "    </tr>\n",
       "    <tr>\n",
       "      <th>Demand_forecast</th>\n",
       "      <td>0.022111</td>\n",
       "      <td>0.098411</td>\n",
       "      <td>-0.016727</td>\n",
       "      <td>-0.010425</td>\n",
       "      <td>-0.005887</td>\n",
       "      <td>-0.030042</td>\n",
       "      <td>0.004531</td>\n",
       "      <td>-0.082900</td>\n",
       "      <td>-0.077926</td>\n",
       "      <td>1.000000</td>\n",
       "      <td>-0.018621</td>\n",
       "    </tr>\n",
       "    <tr>\n",
       "      <th>Logistics_delay</th>\n",
       "      <td>0.039635</td>\n",
       "      <td>0.011796</td>\n",
       "      <td>-0.003340</td>\n",
       "      <td>-0.038067</td>\n",
       "      <td>-0.000504</td>\n",
       "      <td>-0.063036</td>\n",
       "      <td>0.013605</td>\n",
       "      <td>-0.017439</td>\n",
       "      <td>-0.003140</td>\n",
       "      <td>-0.018621</td>\n",
       "      <td>1.000000</td>\n",
       "    </tr>\n",
       "  </tbody>\n",
       "</table>\n",
       "</div>"
      ],
      "text/plain": [
       "                         Latitude  Longitude  Inventory_level  Temperature  \\\n",
       "Latitude                 1.000000  -0.000506         0.014805    -0.018831   \n",
       "Longitude               -0.000506   1.000000        -0.023186     0.007387   \n",
       "Inventory_level          0.014805  -0.023186         1.000000    -0.021061   \n",
       "Temperature             -0.018831   0.007387        -0.021061     1.000000   \n",
       "Humidity                -0.030202   0.031622         0.013395    -0.022674   \n",
       "Waiting_time            -0.025667   0.031939        -0.020337     0.017392   \n",
       "User_transaction_amount -0.035171  -0.019753        -0.036785    -0.006377   \n",
       "User_purchase_frequency  0.003925  -0.036787        -0.019701    -0.017139   \n",
       "Asset_utilization       -0.023605   0.002915         0.017041     0.046005   \n",
       "Demand_forecast          0.022111   0.098411        -0.016727    -0.010425   \n",
       "Logistics_delay          0.039635   0.011796        -0.003340    -0.038067   \n",
       "\n",
       "                         Humidity  Waiting_time  User_transaction_amount  \\\n",
       "Latitude                -0.030202     -0.025667                -0.035171   \n",
       "Longitude                0.031622      0.031939                -0.019753   \n",
       "Inventory_level          0.013395     -0.020337                -0.036785   \n",
       "Temperature             -0.022674      0.017392                -0.006377   \n",
       "Humidity                 1.000000      0.029030                -0.034828   \n",
       "Waiting_time             0.029030      1.000000                -0.017796   \n",
       "User_transaction_amount -0.034828     -0.017796                 1.000000   \n",
       "User_purchase_frequency  0.023341      0.023582                 0.038406   \n",
       "Asset_utilization       -0.030637      0.018008                 0.038607   \n",
       "Demand_forecast         -0.005887     -0.030042                 0.004531   \n",
       "Logistics_delay         -0.000504     -0.063036                 0.013605   \n",
       "\n",
       "                         User_purchase_frequency  Asset_utilization  \\\n",
       "Latitude                                0.003925          -0.023605   \n",
       "Longitude                              -0.036787           0.002915   \n",
       "Inventory_level                        -0.019701           0.017041   \n",
       "Temperature                            -0.017139           0.046005   \n",
       "Humidity                                0.023341          -0.030637   \n",
       "Waiting_time                            0.023582           0.018008   \n",
       "User_transaction_amount                 0.038406           0.038607   \n",
       "User_purchase_frequency                 1.000000           0.024445   \n",
       "Asset_utilization                       0.024445           1.000000   \n",
       "Demand_forecast                        -0.082900          -0.077926   \n",
       "Logistics_delay                        -0.017439          -0.003140   \n",
       "\n",
       "                         Demand_forecast  Logistics_delay  \n",
       "Latitude                        0.022111         0.039635  \n",
       "Longitude                       0.098411         0.011796  \n",
       "Inventory_level                -0.016727        -0.003340  \n",
       "Temperature                    -0.010425        -0.038067  \n",
       "Humidity                       -0.005887        -0.000504  \n",
       "Waiting_time                   -0.030042        -0.063036  \n",
       "User_transaction_amount         0.004531         0.013605  \n",
       "User_purchase_frequency        -0.082900        -0.017439  \n",
       "Asset_utilization              -0.077926        -0.003140  \n",
       "Demand_forecast                 1.000000        -0.018621  \n",
       "Logistics_delay                -0.018621         1.000000  "
      ]
     },
     "execution_count": 187,
     "metadata": {},
     "output_type": "execute_result"
    }
   ],
   "source": [
    "df.corr()"
   ]
  },
  {
   "cell_type": "code",
   "execution_count": 188,
   "metadata": {},
   "outputs": [
    {
     "name": "stderr",
     "output_type": "stream",
     "text": [
      "C:\\Users\\aziya\\AppData\\Local\\Temp\\ipykernel_7864\\2249596087.py:2: FutureWarning: The default value of numeric_only in DataFrame.corr is deprecated. In a future version, it will default to False. Select only valid columns or specify the value of numeric_only to silence this warning.\n",
      "  sns.heatmap(df.corr())\n"
     ]
    },
    {
     "data": {
      "text/plain": [
       "<Axes: >"
      ]
     },
     "execution_count": 188,
     "metadata": {},
     "output_type": "execute_result"
    },
    {
     "data": {
      "image/png": "[encoded data removed]",
      "text/plain": [
       "<Figure size 640x480 with 2 Axes>"
      ]
     },
     "metadata": {},
     "output_type": "display_data"
    }
   ],
   "source": [
    "import seaborn as sns\n",
    "sns.heatmap(df.corr())"
   ]
  },
  {
   "cell_type": "code",
   "execution_count": 189,
   "metadata": {},
   "outputs": [
    {
     "data": {
      "text/html": [
       "<div>\n",
       "<style scoped>\n",
       "    .dataframe tbody tr th:only-of-type {\n",
       "        vertical-align: middle;\n",
       "    }\n",
       "\n",
       "    .dataframe tbody tr th {\n",
       "        vertical-align: top;\n",
       "    }\n",
       "\n",
       "    .dataframe thead th {\n",
       "        text-align: right;\n",
       "    }\n",
       "</style>\n",
       "<table border=\"1\" class=\"dataframe\">\n",
       "  <thead>\n",
       "    <tr style=\"text-align: right;\">\n",
       "      <th></th>\n",
       "      <th>Latitude</th>\n",
       "      <th>Longitude</th>\n",
       "      <th>Inventory_level</th>\n",
       "      <th>Temperature</th>\n",
       "      <th>Humidity</th>\n",
       "      <th>Waiting_time</th>\n",
       "      <th>User_transaction_amount</th>\n",
       "      <th>User_purchase_frequency</th>\n",
       "      <th>Asset_utilization</th>\n",
       "      <th>Demand_forecast</th>\n",
       "      <th>Logistics_delay</th>\n",
       "    </tr>\n",
       "  </thead>\n",
       "  <tbody>\n",
       "    <tr>\n",
       "      <th>count</th>\n",
       "      <td>1000.000000</td>\n",
       "      <td>1000.000000</td>\n",
       "      <td>1000.000000</td>\n",
       "      <td>1000.000000</td>\n",
       "      <td>1000.000000</td>\n",
       "      <td>1000.000000</td>\n",
       "      <td>1000.000000</td>\n",
       "      <td>1000.000000</td>\n",
       "      <td>1000.000000</td>\n",
       "      <td>1000.000000</td>\n",
       "      <td>1000.000000</td>\n",
       "    </tr>\n",
       "    <tr>\n",
       "      <th>mean</th>\n",
       "      <td>-1.360130</td>\n",
       "      <td>0.837060</td>\n",
       "      <td>297.915000</td>\n",
       "      <td>23.893900</td>\n",
       "      <td>65.042200</td>\n",
       "      <td>35.062000</td>\n",
       "      <td>299.055000</td>\n",
       "      <td>5.513000</td>\n",
       "      <td>79.599100</td>\n",
       "      <td>199.284000</td>\n",
       "      <td>0.566000</td>\n",
       "    </tr>\n",
       "    <tr>\n",
       "      <th>std</th>\n",
       "      <td>51.997291</td>\n",
       "      <td>104.843664</td>\n",
       "      <td>113.554773</td>\n",
       "      <td>3.322178</td>\n",
       "      <td>8.753765</td>\n",
       "      <td>14.477768</td>\n",
       "      <td>117.787792</td>\n",
       "      <td>2.935379</td>\n",
       "      <td>11.631153</td>\n",
       "      <td>59.920847</td>\n",
       "      <td>0.495873</td>\n",
       "    </tr>\n",
       "    <tr>\n",
       "      <th>min</th>\n",
       "      <td>-89.790000</td>\n",
       "      <td>-179.820000</td>\n",
       "      <td>100.000000</td>\n",
       "      <td>18.000000</td>\n",
       "      <td>50.000000</td>\n",
       "      <td>10.000000</td>\n",
       "      <td>100.000000</td>\n",
       "      <td>1.000000</td>\n",
       "      <td>60.000000</td>\n",
       "      <td>100.000000</td>\n",
       "      <td>0.000000</td>\n",
       "    </tr>\n",
       "    <tr>\n",
       "      <th>25%</th>\n",
       "      <td>-46.167500</td>\n",
       "      <td>-88.450000</td>\n",
       "      <td>201.000000</td>\n",
       "      <td>21.200000</td>\n",
       "      <td>57.200000</td>\n",
       "      <td>23.000000</td>\n",
       "      <td>191.750000</td>\n",
       "      <td>3.000000</td>\n",
       "      <td>69.475000</td>\n",
       "      <td>144.000000</td>\n",
       "      <td>0.000000</td>\n",
       "    </tr>\n",
       "    <tr>\n",
       "      <th>50%</th>\n",
       "      <td>-4.505000</td>\n",
       "      <td>0.675000</td>\n",
       "      <td>299.000000</td>\n",
       "      <td>23.800000</td>\n",
       "      <td>65.200000</td>\n",
       "      <td>35.000000</td>\n",
       "      <td>301.500000</td>\n",
       "      <td>6.000000</td>\n",
       "      <td>79.250000</td>\n",
       "      <td>202.000000</td>\n",
       "      <td>1.000000</td>\n",
       "    </tr>\n",
       "    <tr>\n",
       "      <th>75%</th>\n",
       "      <td>44.502500</td>\n",
       "      <td>88.157500</td>\n",
       "      <td>399.000000</td>\n",
       "      <td>26.600000</td>\n",
       "      <td>72.400000</td>\n",
       "      <td>49.000000</td>\n",
       "      <td>405.000000</td>\n",
       "      <td>8.000000</td>\n",
       "      <td>89.425000</td>\n",
       "      <td>251.250000</td>\n",
       "      <td>1.000000</td>\n",
       "    </tr>\n",
       "    <tr>\n",
       "      <th>max</th>\n",
       "      <td>89.870000</td>\n",
       "      <td>179.920000</td>\n",
       "      <td>500.000000</td>\n",
       "      <td>30.000000</td>\n",
       "      <td>80.000000</td>\n",
       "      <td>60.000000</td>\n",
       "      <td>500.000000</td>\n",
       "      <td>10.000000</td>\n",
       "      <td>100.000000</td>\n",
       "      <td>300.000000</td>\n",
       "      <td>1.000000</td>\n",
       "    </tr>\n",
       "  </tbody>\n",
       "</table>\n",
       "</div>"
      ],
      "text/plain": [
       "          Latitude    Longitude  Inventory_level  Temperature     Humidity  \\\n",
       "count  1000.000000  1000.000000      1000.000000  1000.000000  1000.000000   \n",
       "mean     -1.360130     0.837060       297.915000    23.893900    65.042200   \n",
       "std      51.997291   104.843664       113.554773     3.322178     8.753765   \n",
       "min     -89.790000  -179.820000       100.000000    18.000000    50.000000   \n",
       "25%     -46.167500   -88.450000       201.000000    21.200000    57.200000   \n",
       "50%      -4.505000     0.675000       299.000000    23.800000    65.200000   \n",
       "75%      44.502500    88.157500       399.000000    26.600000    72.400000   \n",
       "max      89.870000   179.920000       500.000000    30.000000    80.000000   \n",
       "\n",
       "       Waiting_time  User_transaction_amount  User_purchase_frequency  \\\n",
       "count   1000.000000              1000.000000              1000.000000   \n",
       "mean      35.062000               299.055000                 5.513000   \n",
       "std       14.477768               117.787792                 2.935379   \n",
       "min       10.000000               100.000000                 1.000000   \n",
       "25%       23.000000               191.750000                 3.000000   \n",
       "50%       35.000000               301.500000                 6.000000   \n",
       "75%       49.000000               405.000000                 8.000000   \n",
       "max       60.000000               500.000000                10.000000   \n",
       "\n",
       "       Asset_utilization  Demand_forecast  Logistics_delay  \n",
       "count        1000.000000      1000.000000      1000.000000  \n",
       "mean           79.599100       199.284000         0.566000  \n",
       "std            11.631153        59.920847         0.495873  \n",
       "min            60.000000       100.000000         0.000000  \n",
       "25%            69.475000       144.000000         0.000000  \n",
       "50%            79.250000       202.000000         1.000000  \n",
       "75%            89.425000       251.250000         1.000000  \n",
       "max           100.000000       300.000000         1.000000  "
      ]
     },
     "execution_count": 189,
     "metadata": {},
     "output_type": "execute_result"
    }
   ],
   "source": [
    "df.describe()"
   ]
  },
  {
   "cell_type": "code",
   "execution_count": 190,
   "metadata": {},
   "outputs": [
    {
     "name": "stderr",
     "output_type": "stream",
     "text": [
      "C:\\Users\\aziya\\AppData\\Local\\Temp\\ipykernel_7864\\1545644723.py:1: FutureWarning: The default value of numeric_only in DataFrame.cov is deprecated. In a future version, it will default to False. Select only valid columns or specify the value of numeric_only to silence this warning.\n",
      "  df.cov()\n"
     ]
    },
    {
     "data": {
      "text/html": [
       "<div>\n",
       "<style scoped>\n",
       "    .dataframe tbody tr th:only-of-type {\n",
       "        vertical-align: middle;\n",
       "    }\n",
       "\n",
       "    .dataframe tbody tr th {\n",
       "        vertical-align: top;\n",
       "    }\n",
       "\n",
       "    .dataframe thead th {\n",
       "        text-align: right;\n",
       "    }\n",
       "</style>\n",
       "<table border=\"1\" class=\"dataframe\">\n",
       "  <thead>\n",
       "    <tr style=\"text-align: right;\">\n",
       "      <th></th>\n",
       "      <th>Latitude</th>\n",
       "      <th>Longitude</th>\n",
       "      <th>Inventory_level</th>\n",
       "      <th>Temperature</th>\n",
       "      <th>Humidity</th>\n",
       "      <th>Waiting_time</th>\n",
       "      <th>User_transaction_amount</th>\n",
       "      <th>User_purchase_frequency</th>\n",
       "      <th>Asset_utilization</th>\n",
       "      <th>Demand_forecast</th>\n",
       "      <th>Logistics_delay</th>\n",
       "    </tr>\n",
       "  </thead>\n",
       "  <tbody>\n",
       "    <tr>\n",
       "      <th>Latitude</th>\n",
       "      <td>2703.718229</td>\n",
       "      <td>-2.757452</td>\n",
       "      <td>87.419098</td>\n",
       "      <td>-3.252881</td>\n",
       "      <td>-13.747282</td>\n",
       "      <td>-19.322524</td>\n",
       "      <td>-215.409032</td>\n",
       "      <td>0.599006</td>\n",
       "      <td>-14.276106</td>\n",
       "      <td>68.890277</td>\n",
       "      <td>1.021956</td>\n",
       "    </tr>\n",
       "    <tr>\n",
       "      <th>Longitude</th>\n",
       "      <td>-2.757452</td>\n",
       "      <td>10992.193861</td>\n",
       "      <td>-276.037868</td>\n",
       "      <td>2.573011</td>\n",
       "      <td>29.022178</td>\n",
       "      <td>48.479992</td>\n",
       "      <td>-243.938967</td>\n",
       "      <td>-11.321543</td>\n",
       "      <td>3.555301</td>\n",
       "      <td>618.246461</td>\n",
       "      <td>0.613287</td>\n",
       "    </tr>\n",
       "    <tr>\n",
       "      <th>Inventory_level</th>\n",
       "      <td>87.419098</td>\n",
       "      <td>-276.037868</td>\n",
       "      <td>12894.686461</td>\n",
       "      <td>-7.945164</td>\n",
       "      <td>13.314902</td>\n",
       "      <td>-33.434164</td>\n",
       "      <td>-492.015340</td>\n",
       "      <td>-6.566962</td>\n",
       "      <td>22.506930</td>\n",
       "      <td>-113.815676</td>\n",
       "      <td>-0.188078</td>\n",
       "    </tr>\n",
       "    <tr>\n",
       "      <th>Temperature</th>\n",
       "      <td>-3.252881</td>\n",
       "      <td>2.573011</td>\n",
       "      <td>-7.945164</td>\n",
       "      <td>11.036870</td>\n",
       "      <td>-0.659402</td>\n",
       "      <td>0.836515</td>\n",
       "      <td>-2.495560</td>\n",
       "      <td>-0.167138</td>\n",
       "      <td>1.777682</td>\n",
       "      <td>-2.075243</td>\n",
       "      <td>-0.062710</td>\n",
       "    </tr>\n",
       "    <tr>\n",
       "      <th>Humidity</th>\n",
       "      <td>-13.747282</td>\n",
       "      <td>29.022178</td>\n",
       "      <td>13.314902</td>\n",
       "      <td>-0.659402</td>\n",
       "      <td>76.628408</td>\n",
       "      <td>3.679063</td>\n",
       "      <td>-35.911032</td>\n",
       "      <td>0.599751</td>\n",
       "      <td>-3.119301</td>\n",
       "      <td>-3.088073</td>\n",
       "      <td>-0.002187</td>\n",
       "    </tr>\n",
       "    <tr>\n",
       "      <th>Waiting_time</th>\n",
       "      <td>-19.322524</td>\n",
       "      <td>48.479992</td>\n",
       "      <td>-33.434164</td>\n",
       "      <td>0.836515</td>\n",
       "      <td>3.679063</td>\n",
       "      <td>209.605762</td>\n",
       "      <td>-30.347758</td>\n",
       "      <td>1.002196</td>\n",
       "      <td>3.032488</td>\n",
       "      <td>-26.061670</td>\n",
       "      <td>-0.452545</td>\n",
       "    </tr>\n",
       "    <tr>\n",
       "      <th>User_transaction_amount</th>\n",
       "      <td>-215.409032</td>\n",
       "      <td>-243.938967</td>\n",
       "      <td>-492.015340</td>\n",
       "      <td>-2.495560</td>\n",
       "      <td>-35.911032</td>\n",
       "      <td>-30.347758</td>\n",
       "      <td>13873.963939</td>\n",
       "      <td>13.279064</td>\n",
       "      <td>52.891641</td>\n",
       "      <td>31.978358</td>\n",
       "      <td>0.794665</td>\n",
       "    </tr>\n",
       "    <tr>\n",
       "      <th>User_purchase_frequency</th>\n",
       "      <td>0.599006</td>\n",
       "      <td>-11.321543</td>\n",
       "      <td>-6.566962</td>\n",
       "      <td>-0.167138</td>\n",
       "      <td>0.599751</td>\n",
       "      <td>1.002196</td>\n",
       "      <td>13.279064</td>\n",
       "      <td>8.616447</td>\n",
       "      <td>0.834596</td>\n",
       "      <td>-14.581273</td>\n",
       "      <td>-0.025383</td>\n",
       "    </tr>\n",
       "    <tr>\n",
       "      <th>Asset_utilization</th>\n",
       "      <td>-14.276106</td>\n",
       "      <td>3.555301</td>\n",
       "      <td>22.506930</td>\n",
       "      <td>1.777682</td>\n",
       "      <td>-3.119301</td>\n",
       "      <td>3.032488</td>\n",
       "      <td>52.891641</td>\n",
       "      <td>0.834596</td>\n",
       "      <td>135.283713</td>\n",
       "      <td>-54.310155</td>\n",
       "      <td>-0.018109</td>\n",
       "    </tr>\n",
       "    <tr>\n",
       "      <th>Demand_forecast</th>\n",
       "      <td>68.890277</td>\n",
       "      <td>618.246461</td>\n",
       "      <td>-113.815676</td>\n",
       "      <td>-2.075243</td>\n",
       "      <td>-3.088073</td>\n",
       "      <td>-26.061670</td>\n",
       "      <td>31.978358</td>\n",
       "      <td>-14.581273</td>\n",
       "      <td>-54.310155</td>\n",
       "      <td>3590.507852</td>\n",
       "      <td>-0.553297</td>\n",
       "    </tr>\n",
       "    <tr>\n",
       "      <th>Logistics_delay</th>\n",
       "      <td>1.021956</td>\n",
       "      <td>0.613287</td>\n",
       "      <td>-0.188078</td>\n",
       "      <td>-0.062710</td>\n",
       "      <td>-0.002187</td>\n",
       "      <td>-0.452545</td>\n",
       "      <td>0.794665</td>\n",
       "      <td>-0.025383</td>\n",
       "      <td>-0.018109</td>\n",
       "      <td>-0.553297</td>\n",
       "      <td>0.245890</td>\n",
       "    </tr>\n",
       "  </tbody>\n",
       "</table>\n",
       "</div>"
      ],
      "text/plain": [
       "                            Latitude     Longitude  Inventory_level  \\\n",
       "Latitude                 2703.718229     -2.757452        87.419098   \n",
       "Longitude                  -2.757452  10992.193861      -276.037868   \n",
       "Inventory_level            87.419098   -276.037868     12894.686461   \n",
       "Temperature                -3.252881      2.573011        -7.945164   \n",
       "Humidity                  -13.747282     29.022178        13.314902   \n",
       "Waiting_time              -19.322524     48.479992       -33.434164   \n",
       "User_transaction_amount  -215.409032   -243.938967      -492.015340   \n",
       "User_purchase_frequency     0.599006    -11.321543        -6.566962   \n",
       "Asset_utilization         -14.276106      3.555301        22.506930   \n",
       "Demand_forecast            68.890277    618.246461      -113.815676   \n",
       "Logistics_delay             1.021956      0.613287        -0.188078   \n",
       "\n",
       "                         Temperature   Humidity  Waiting_time  \\\n",
       "Latitude                   -3.252881 -13.747282    -19.322524   \n",
       "Longitude                   2.573011  29.022178     48.479992   \n",
       "Inventory_level            -7.945164  13.314902    -33.434164   \n",
       "Temperature                11.036870  -0.659402      0.836515   \n",
       "Humidity                   -0.659402  76.628408      3.679063   \n",
       "Waiting_time                0.836515   3.679063    209.605762   \n",
       "User_transaction_amount    -2.495560 -35.911032    -30.347758   \n",
       "User_purchase_frequency    -0.167138   0.599751      1.002196   \n",
       "Asset_utilization           1.777682  -3.119301      3.032488   \n",
       "Demand_forecast            -2.075243  -3.088073    -26.061670   \n",
       "Logistics_delay            -0.062710  -0.002187     -0.452545   \n",
       "\n",
       "                         User_transaction_amount  User_purchase_frequency  \\\n",
       "Latitude                             -215.409032                 0.599006   \n",
       "Longitude                            -243.938967               -11.321543   \n",
       "Inventory_level                      -492.015340                -6.566962   \n",
       "Temperature                            -2.495560                -0.167138   \n",
       "Humidity                              -35.911032                 0.599751   \n",
       "Waiting_time                          -30.347758                 1.002196   \n",
       "User_transaction_amount             13873.963939                13.279064   \n",
       "User_purchase_frequency                13.279064                 8.616447   \n",
       "Asset_utilization                      52.891641                 0.834596   \n",
       "Demand_forecast                        31.978358               -14.581273   \n",
       "Logistics_delay                         0.794665                -0.025383   \n",
       "\n",
       "                         Asset_utilization  Demand_forecast  Logistics_delay  \n",
       "Latitude                        -14.276106        68.890277         1.021956  \n",
       "Longitude                         3.555301       618.246461         0.613287  \n",
       "Inventory_level                  22.506930      -113.815676        -0.188078  \n",
       "Temperature                       1.777682        -2.075243        -0.062710  \n",
       "Humidity                         -3.119301        -3.088073        -0.002187  \n",
       "Waiting_time                      3.032488       -26.061670        -0.452545  \n",
       "User_transaction_amount          52.891641        31.978358         0.794665  \n",
       "User_purchase_frequency           0.834596       -14.581273        -0.025383  \n",
       "Asset_utilization               135.283713       -54.310155        -0.018109  \n",
       "Demand_forecast                 -54.310155      3590.507852        -0.553297  \n",
       "Logistics_delay                  -0.018109        -0.553297         0.245890  "
      ]
     },
     "execution_count": 190,
     "metadata": {},
     "output_type": "execute_result"
    }
   ],
   "source": [
    "df.cov()"
   ]
  },
  {
   "cell_type": "markdown",
   "metadata": {},
   "source": [
    "## DATA ANALYSIS AND VISUALIZATION"
   ]
  },
  {
   "cell_type": "markdown",
   "metadata": {},
   "source": [
    "NUMBER OF SHIPMENTS IN EACH MONTH AND ALSO HIGHEST AND LOWEST"
   ]
  },
  {
   "cell_type": "code",
   "execution_count": 191,
   "metadata": {},
   "outputs": [
    {
     "name": "stdout",
     "output_type": "stream",
     "text": [
      "SHIPMENT IN EACH MONTH\n",
      " January      92\n",
      "February     77\n",
      "March        94\n",
      "April        86\n",
      "May          74\n",
      "June         77\n",
      "July         86\n",
      "August       77\n",
      "September    83\n",
      "October      83\n",
      "November     82\n",
      "December     89\n",
      "Name: Timestamp, dtype: int64\n"
     ]
    }
   ],
   "source": [
    "all_months = ['January','February','March','April','May','June','July','August','September','October','November','December']\n",
    "monthly_count = df['Timestamp'].dt.month_name().value_counts().reindex(all_months,fill_value=0)\n",
    "print(\"SHIPMENT IN EACH MONTH\\n\",monthly_count)"
   ]
  },
  {
   "cell_type": "code",
   "execution_count": 192,
   "metadata": {},
   "outputs": [
    {
     "name": "stdout",
     "output_type": "stream",
     "text": [
      "Maximum Shipment in March    94\n"
     ]
    }
   ],
   "source": [
    "max_month = monthly_count.idxmax()\n",
    "print(\"Maximum Shipment in\",max_month,\"  \",monthly_count.max())"
   ]
  },
  {
   "cell_type": "code",
   "execution_count": 193,
   "metadata": {},
   "outputs": [
    {
     "name": "stdout",
     "output_type": "stream",
     "text": [
      "Minimum shippping in May   74\n"
     ]
    }
   ],
   "source": [
    "min_month = monthly_count.idxmin()\n",
    "print(\"Minimum shippping in\",min_month,\" \",monthly_count.min())"
   ]
  },
  {
   "cell_type": "code",
   "execution_count": 194,
   "metadata": {},
   "outputs": [
    {
     "data": {
      "text/plain": [
       "<Axes: title={'center': 'Monthly Distribution'}, xlabel='Month', ylabel='Count'>"
      ]
     },
     "execution_count": 194,
     "metadata": {},
     "output_type": "execute_result"
    },
    {
     "data": {
      "image/png": "[encoded data removed]",
      "text/plain": [
       "<Figure size 1500x500 with 1 Axes>"
      ]
     },
     "metadata": {},
     "output_type": "display_data"
    }
   ],
   "source": [
    "import seaborn as sns\n",
    "import matplotlib.pyplot as plt\n",
    "plt.figure(figsize =(15,5))\n",
    "plt.xlabel(\"Month\") \n",
    "plt.ylabel(\"Count\")\n",
    "plt.title(\"Monthly Distribution\")\n",
    "sns.barplot(x = monthly_count.index,y = monthly_count.values)\n"
   ]
  },
  {
   "cell_type": "markdown",
   "metadata": {},
   "source": [
    "Maximum shipment in March and minimum shipment in May"
   ]
  },
  {
   "cell_type": "markdown",
   "metadata": {},
   "source": [
    "LOGISTICS DELAY REASON"
   ]
  },
  {
   "cell_type": "code",
   "execution_count": 195,
   "metadata": {},
   "outputs": [
    {
     "name": "stdout",
     "output_type": "stream",
     "text": [
      "Logistics_delay_reason\n",
      "mechanical failure    234\n",
      "none                  263\n",
      "traffic               236\n",
      "weather               267\n",
      "dtype: int64\n",
      "Main reason for logistics delay: weather\n"
     ]
    }
   ],
   "source": [
    "delay_log = df.groupby('Logistics_delay_reason').size()\n",
    "print(delay_log)\n",
    "print(\"Main reason for logistics delay:\",df['Logistics_delay_reason'].max())"
   ]
  },
  {
   "cell_type": "code",
   "execution_count": 196,
   "metadata": {},
   "outputs": [
    {
     "data": {
      "image/png": "[encoded data removed]",
      "text/plain": [
       "<Figure size 700x700 with 1 Axes>"
      ]
     },
     "metadata": {},
     "output_type": "display_data"
    }
   ],
   "source": [
    "plt.figure(figsize=(7, 7))\n",
    "delay_log.plot(kind='pie', autopct='%1.1f%%', startangle=90)\n",
    "\n",
    "plt.ylabel('') \n",
    "plt.title('Logistics Delay Reasons Distribution')\n",
    "plt.show()\n"
   ]
  },
  {
   "cell_type": "markdown",
   "metadata": {},
   "source": [
    "**LATITUDE AND LONGITUDE**"
   ]
  },
  {
   "cell_type": "markdown",
   "metadata": {},
   "source": [
    "Coordinates having Traffic problem"
   ]
  },
  {
   "cell_type": "code",
   "execution_count": 197,
   "metadata": {},
   "outputs": [
    {
     "name": "stdout",
     "output_type": "stream",
     "text": [
      "     Latitude  Longitude  Traffic_count\n",
      "0      -86.94     -84.97              1\n",
      "162     30.67      78.47              1\n",
      "150     17.54     -68.53              1\n",
      "151     17.71    -162.00              1\n",
      "152     18.12     116.49              1\n",
      "153     18.76     139.96              1\n",
      "154     19.36    -149.45              1\n",
      "155     19.56     171.87              1\n",
      "156     24.20      18.69              1\n",
      "157     24.84     -83.72              1\n"
     ]
    }
   ],
   "source": [
    "traffic_Delay = df[df['Logistics_delay_reason']=='traffic']\n",
    "traffic_locations = traffic_Delay.groupby(['Latitude','Longitude']).size().reset_index(name = 'Traffic_count')\n",
    "traffic_locations = traffic_locations.sort_values(by = 'Traffic_count',ascending=False)\n",
    "print(traffic_locations.head(10))\n"
   ]
  },
  {
   "cell_type": "markdown",
   "metadata": {},
   "source": [
    "Coordinates having weather problem"
   ]
  },
  {
   "cell_type": "code",
   "execution_count": 198,
   "metadata": {},
   "outputs": [
    {
     "name": "stdout",
     "output_type": "stream",
     "text": [
      "     Latitude  Longitude  weather_traff\n",
      "0      -89.79      85.80              1\n",
      "183     38.11     164.77              1\n",
      "169     23.71     -92.91              1\n",
      "170     23.96     -88.76              1\n",
      "171     24.42      -7.06              1\n",
      "172     25.70     150.63              1\n",
      "173     26.38     157.09              1\n",
      "174     27.27     -34.10              1\n",
      "175     27.43      90.14              1\n",
      "176     28.35      -1.55              1\n"
     ]
    }
   ],
   "source": [
    "weather = df[df['Logistics_delay_reason'] == 'weather']\n",
    "weathtraff = weather.groupby(['Latitude','Longitude']).size().reset_index(name = 'weather_traff' )\n",
    "weathtraff = weathtraff.sort_values(by = 'weather_traff',ascending=False)\n",
    "print(weathtraff.head(10))"
   ]
  },
  {
   "cell_type": "code",
   "execution_count": 199,
   "metadata": {},
   "outputs": [
    {
     "name": "stdout",
     "output_type": "stream",
     "text": [
      "Shipment_status\n",
      "delayed       350\n",
      "delivered     338\n",
      "in transit    312\n",
      "dtype: int64\n"
     ]
    },
    {
     "data": {
      "image/png": "[encoded data removed]",
      "text/plain": [
       "<Figure size 640x480 with 1 Axes>"
      ]
     },
     "metadata": {},
     "output_type": "display_data"
    }
   ],
   "source": [
    "ship = df.groupby('Shipment_status').size()\n",
    "print(ship)\n",
    "ship.plot(kind='pie', autopct='%1.1f%%', startangle=90)\n",
    "\n",
    "plt.ylabel('') \n",
    "plt.title('Shipment status Distribution')\n",
    "plt.show()"
   ]
  },
  {
   "cell_type": "markdown",
   "metadata": {},
   "source": [
    "TEMPERATURE AFECTING SHIPMENT"
   ]
  },
  {
   "cell_type": "code",
   "execution_count": 200,
   "metadata": {},
   "outputs": [
    {
     "name": "stdout",
     "output_type": "stream",
     "text": [
      "                Temperature                      \n",
      "                       mean   min   max       std\n",
      "Shipment_status                                  \n",
      "delayed           23.676286  18.0  30.0  3.347194\n",
      "delivered         23.988757  18.0  30.0  3.383928\n",
      "in transit        24.035256  18.0  30.0  3.223164\n"
     ]
    }
   ],
   "source": [
    "temp_stats = df.groupby('Shipment_status').agg({\n",
    "    'Temperature': ['mean', 'min', 'max', 'std']\n",
    "})\n",
    "\n",
    "print(temp_stats)"
   ]
  },
  {
   "cell_type": "code",
   "execution_count": 201,
   "metadata": {},
   "outputs": [
    {
     "name": "stdout",
     "output_type": "stream",
     "text": [
      "  Shipment_status Temperature            \n",
      "                         mean   min   max\n",
      "0         delayed   23.676286  18.0  30.0\n",
      "1       delivered   23.988757  18.0  30.0\n",
      "2      in transit   24.035256  18.0  30.0\n"
     ]
    }
   ],
   "source": [
    "\n",
    "temp_stats = df.groupby('Shipment_status').agg({\n",
    "    'Temperature': ['mean', 'min', 'max']\n",
    "}).reset_index()\n",
    "\n",
    "print(temp_stats)\n"
   ]
  },
  {
   "cell_type": "code",
   "execution_count": 202,
   "metadata": {},
   "outputs": [
    {
     "name": "stderr",
     "output_type": "stream",
     "text": [
      "C:\\Users\\aziya\\AppData\\Local\\Temp\\ipykernel_7864\\2497472709.py:1: FutureWarning: \n",
      "\n",
      "The `ci` parameter is deprecated. Use `errorbar=None` for the same effect.\n",
      "\n",
      "  sns.barplot(x='Shipment_status', y='Temperature', data=df, estimator='mean', ci=None)\n"
     ]
    },
    {
     "data": {
      "image/png": "[encoded data removed]",
      "text/plain": [
       "<Figure size 640x480 with 1 Axes>"
      ]
     },
     "metadata": {},
     "output_type": "display_data"
    }
   ],
   "source": [
    "sns.barplot(x='Shipment_status', y='Temperature', data=df, estimator='mean', ci=None)\n",
    "plt.title('Average Temperature by Shipment Status')\n",
    "plt.xlabel('Shipment Status')\n",
    "plt.ylabel('Average Temperature')\n",
    "plt.xticks(rotation=45)\n",
    "plt.show()\n",
    "\n"
   ]
  },
  {
   "cell_type": "markdown",
   "metadata": {},
   "source": [
    "All shipment statuses share identical minimum (18°C) and maximum (30°C) temperatures with similar standard deviations (around 3.3°C), suggesting that any variations in shipment outcomes are likely due to other factors rather than temperature differences."
   ]
  },
  {
   "cell_type": "markdown",
   "metadata": {},
   "source": [
    "HUMIDITY AFFECTING SHIPMENT"
   ]
  },
  {
   "cell_type": "code",
   "execution_count": 203,
   "metadata": {},
   "outputs": [
    {
     "name": "stdout",
     "output_type": "stream",
     "text": [
      "                  Humidity                      \n",
      "                      mean   min   max       std\n",
      "Shipment_status                                 \n",
      "delayed          64.438571  50.0  80.0  8.750258\n",
      "delivered        65.649704  50.1  79.9  8.707966\n",
      "in transit       65.061218  50.1  80.0  8.788922\n"
     ]
    }
   ],
   "source": [
    "humidity_Status = df.groupby('Shipment_status').agg({\n",
    "    'Humidity':['mean','min','max','std']\n",
    "})\n",
    "print(humidity_Status)"
   ]
  },
  {
   "cell_type": "code",
   "execution_count": 204,
   "metadata": {},
   "outputs": [
    {
     "data": {
      "image/png": "[encoded data removed]",
      "text/plain": [
       "<Figure size 640x480 with 1 Axes>"
      ]
     },
     "metadata": {},
     "output_type": "display_data"
    }
   ],
   "source": [
    "sns.barplot(x='Shipment_status', y='Humidity', data=df)\n",
    "plt.title('Humidity Distribution by Shipment Status')\n",
    "plt.xlabel('Shipment Status')\n",
    "plt.ylabel('Humidity')\n",
    "plt.show()"
   ]
  },
  {
   "cell_type": "markdown",
   "metadata": {},
   "source": [
    " Humidity levels are very similar across all shipment statuses, with only a slight increase in mean humidity for Delivered shipments (65.65%) compared to Delayed (64.44%). This suggests that humidity alone is not a strong predictor of shipment delays."
   ]
  },
  {
   "cell_type": "markdown",
   "metadata": {},
   "source": [
    " Environmental factors like humidity and temperature are well-controlled and likely not significant contributors to shipping delays."
   ]
  },
  {
   "cell_type": "markdown",
   "metadata": {},
   "source": [
    "WAITING TIME IN SHIPPMENT STATUS"
   ]
  },
  {
   "cell_type": "code",
   "execution_count": 205,
   "metadata": {},
   "outputs": [
    {
     "name": "stdout",
     "output_type": "stream",
     "text": [
      "                Waiting_time               \n",
      "                         min max       mean\n",
      "Shipment_status                            \n",
      "delayed                   10  60  34.560000\n",
      "delivered                 10  60  35.281065\n",
      "in transit                10  60  35.387821\n"
     ]
    }
   ],
   "source": [
    "wait_time = df.groupby('Shipment_status').agg({\n",
    "    'Waiting_time':['min','max','mean']\n",
    "})\n",
    "print(wait_time)"
   ]
  },
  {
   "cell_type": "markdown",
   "metadata": {},
   "source": [
    "Waiting times are nearly identical across all shipment statuses, with only a slight increase in mean waiting time for In Transit and Delivered shipments compared to Delayed shipments."
   ]
  },
  {
   "cell_type": "markdown",
   "metadata": {},
   "source": [
    "WAITING TIME IN TRAFFIC"
   ]
  },
  {
   "cell_type": "code",
   "execution_count": 206,
   "metadata": {},
   "outputs": [
    {
     "name": "stdout",
     "output_type": "stream",
     "text": [
      "               Waiting_time               \n",
      "                        min max       mean\n",
      "Traffic_status                            \n",
      "clear                    10  60  35.542683\n",
      "detour                   10  60  35.307246\n",
      "heavy                    10  60  34.321101\n"
     ]
    }
   ],
   "source": [
    "traff = df.groupby('Traffic_status').agg({\n",
    "    'Waiting_time':['min','max','mean']\n",
    "})\n",
    "print(traff)"
   ]
  },
  {
   "cell_type": "code",
   "execution_count": 207,
   "metadata": {},
   "outputs": [
    {
     "data": {
      "image/png": "[encoded data removed]",
      "text/plain": [
       "<Figure size 640x480 with 2 Axes>"
      ]
     },
     "metadata": {},
     "output_type": "display_data"
    }
   ],
   "source": [
    "df_corr = df[['Asset_utilization', 'Waiting_time']].corr()\n",
    "sns.heatmap(df_corr, annot=True, cmap='coolwarm', linewidths=0.5)\n",
    "plt.title(\"Correlation Heatmap\")\n",
    "plt.show()\n"
   ]
  },
  {
   "cell_type": "code",
   "execution_count": 208,
   "metadata": {},
   "outputs": [
    {
     "name": "stdout",
     "output_type": "stream",
     "text": [
      "Correlation: 0.018008385002725117\n"
     ]
    }
   ],
   "source": [
    "correlation = df['Asset_utilization'].corr(df['Waiting_time'])\n",
    "print(f\"Correlation: {correlation}\")"
   ]
  },
  {
   "cell_type": "markdown",
   "metadata": {},
   "source": [
    "Asset Utilization has almost no impact on Waiting Time."
   ]
  },
  {
   "cell_type": "markdown",
   "metadata": {},
   "source": [
    "USER PURCHASE FREQUENCY AND USER TRANSACTION AMOUNT "
   ]
  },
  {
   "cell_type": "code",
   "execution_count": 209,
   "metadata": {},
   "outputs": [
    {
     "name": "stdout",
     "output_type": "stream",
     "text": [
      "Highest Purchase Frequency Count: 110\n",
      "Purchase Frequencies with this Count: [9, 2]\n"
     ]
    }
   ],
   "source": [
    "\n",
    "purchase_counts = df['User_purchase_frequency'].value_counts()\n",
    "\n",
    "\n",
    "max_count = purchase_counts.max()\n",
    "\n",
    "max_frequencies = purchase_counts[purchase_counts == max_count]\n",
    "\n",
    "print(\"Highest Purchase Frequency Count:\", max_count)\n",
    "print(\"Purchase Frequencies with this Count:\", max_frequencies.index.tolist())\n"
   ]
  },
  {
   "cell_type": "code",
   "execution_count": 210,
   "metadata": {},
   "outputs": [
    {
     "name": "stdout",
     "output_type": "stream",
     "text": [
      "500\n",
      "100\n"
     ]
    }
   ],
   "source": [
    "print(max(df['User_transaction_amount']))\n",
    "print(min(df['User_transaction_amount']))"
   ]
  },
  {
   "cell_type": "code",
   "execution_count": 211,
   "metadata": {},
   "outputs": [
    {
     "name": "stdout",
     "output_type": "stream",
     "text": [
      "USER PURCHASE FREQUENCY IN EACH MONTH\n",
      " Timestamp\n",
      "January      5.08\n",
      "February     5.69\n",
      "March        5.05\n",
      "April        6.00\n",
      "May          5.88\n",
      "June         5.70\n",
      "July         6.16\n",
      "August       5.12\n",
      "September    5.13\n",
      "October      4.93\n",
      "November     5.91\n",
      "December     5.61\n",
      "Name: User_purchase_frequency, dtype: float64\n"
     ]
    }
   ],
   "source": [
    "all_monthh = ['January','February','March','April','May','June','July','August','September','October','November','December']\n",
    "purchase_month = df.groupby(df['Timestamp'].dt.month_name())['User_purchase_frequency'].mean().reindex(all_monthh,fill_value=0)\n",
    "print(\"USER PURCHASE FREQUENCY IN EACH MONTH\\n\",purchase_month.round(2))"
   ]
  },
  {
   "cell_type": "markdown",
   "metadata": {},
   "source": [
    "DEMAND FORECAST IN EACH MONTH "
   ]
  },
  {
   "cell_type": "code",
   "execution_count": 212,
   "metadata": {},
   "outputs": [
    {
     "name": "stdout",
     "output_type": "stream",
     "text": [
      "DEMAND FORECAST IN EACH MONTH\n",
      " Timestamp\n",
      "January      206.956522\n",
      "February     198.207792\n",
      "March        203.180851\n",
      "April        197.232558\n",
      "May          185.405405\n",
      "June         198.350649\n",
      "July         197.709302\n",
      "August       204.480519\n",
      "September    201.337349\n",
      "October      198.048193\n",
      "November     202.634146\n",
      "December     195.674157\n",
      "Name: Demand_forecast, dtype: float64\n"
     ]
    }
   ],
   "source": [
    "all_months_dem = ['January','February','March','April','May','June','July','August','September','October','November','December']\n",
    "monthly_avg_demand = df.groupby(df['Timestamp'].dt.month_name())['Demand_forecast'].mean().reindex(all_months_dem,fill_value=0)\n",
    "print(\"DEMAND FORECAST IN EACH MONTH\\n\",monthly_avg_demand)"
   ]
  },
  {
   "cell_type": "code",
   "execution_count": 213,
   "metadata": {},
   "outputs": [
    {
     "name": "stdout",
     "output_type": "stream",
     "text": [
      "Maximum Demand forecast in January    206.95652173913044\n"
     ]
    }
   ],
   "source": [
    "max_month_dem = monthly_avg_demand.idxmax()\n",
    "print(\"Maximum Demand forecast in\",max_month_dem,\"  \",monthly_avg_demand.max())"
   ]
  },
  {
   "cell_type": "code",
   "execution_count": 214,
   "metadata": {},
   "outputs": [
    {
     "name": "stdout",
     "output_type": "stream",
     "text": [
      "Minimum Demand forecast in May    185.40540540540542\n"
     ]
    }
   ],
   "source": [
    "min_month_dem = monthly_avg_demand.idxmin()\n",
    "print(\"Minimum Demand forecast in\",min_month_dem,\"  \",monthly_avg_demand.min())"
   ]
  },
  {
   "cell_type": "code",
   "execution_count": 215,
   "metadata": {},
   "outputs": [
    {
     "data": {
      "text/plain": [
       "<Axes: title={'center': 'Monthly Distribution'}, xlabel='Timestamp', ylabel='Average'>"
      ]
     },
     "execution_count": 215,
     "metadata": {},
     "output_type": "execute_result"
    },
    {
     "data": {
      "image/png": "[encoded data removed]",
      "text/plain": [
       "<Figure size 1500x500 with 1 Axes>"
      ]
     },
     "metadata": {},
     "output_type": "display_data"
    }
   ],
   "source": [
    "import seaborn as sns\n",
    "import matplotlib.pyplot as plt\n",
    "plt.figure(figsize =(15,5))\n",
    "plt.xlabel(\"Month\")\n",
    "plt.ylabel(\"Average\")\n",
    "plt.title(\"Monthly Distribution\")\n",
    "sns.barplot(x = monthly_avg_demand.index,y = monthly_avg_demand.values)\n"
   ]
  },
  {
   "cell_type": "markdown",
   "metadata": {},
   "source": [
    "DEMAND FORECAST MINIMUM IN MAY AND MAXIMUM IN JANUARY"
   ]
  },
  {
   "cell_type": "markdown",
   "metadata": {},
   "source": [
    "ASSET UTILIZATION"
   ]
  },
  {
   "cell_type": "code",
   "execution_count": 216,
   "metadata": {},
   "outputs": [
    {
     "name": "stdout",
     "output_type": "stream",
     "text": [
      "                   Asset_utilization  Demand_forecast\n",
      "Asset_utilization           1.000000        -0.077926\n",
      "Demand_forecast            -0.077926         1.000000\n"
     ]
    }
   ],
   "source": [
    "# Calculate correlation between Asset_Utilization and Demand_Forecast\n",
    "correlation = df[['Asset_utilization', 'Demand_forecast']].corr()\n",
    "print(correlation)"
   ]
  },
  {
   "cell_type": "code",
   "execution_count": 217,
   "metadata": {},
   "outputs": [
    {
     "name": "stdout",
     "output_type": "stream",
     "text": [
      "Overall Fleet Average Utilization: 79.60%\n"
     ]
    }
   ],
   "source": [
    "# Simple overall average\n",
    "avg_utilization = df['Asset_utilization'].mean()\n",
    "print(f\"Overall Fleet Average Utilization: {avg_utilization:.2f}%\")\n"
   ]
  },
  {
   "cell_type": "code",
   "execution_count": 218,
   "metadata": {},
   "outputs": [
    {
     "name": "stdout",
     "output_type": "stream",
     "text": [
      "AVERAGE ASSET UTILIZATION IN EACH MONTH\n",
      " Timestamp\n",
      "January      80.893478\n",
      "February     79.061039\n",
      "March        78.251064\n",
      "April        78.402326\n",
      "May          79.491892\n",
      "June         81.554545\n",
      "July         80.182558\n",
      "August       78.264935\n",
      "September    80.785542\n",
      "October      79.838554\n",
      "November     77.973171\n",
      "December     80.462921\n",
      "Name: Asset_utilization, dtype: float64\n"
     ]
    }
   ],
   "source": [
    "all_months_asset = ['January','February','March','April','May','June','July','August','September','October','November','December']\n",
    "monthly_avg_asset = df.groupby(df['Timestamp'].dt.month_name())['Asset_utilization'].mean().reindex(all_months_asset,fill_value=0)\n",
    "print(\"AVERAGE ASSET UTILIZATION IN EACH MONTH\\n\",monthly_avg_asset)"
   ]
  },
  {
   "cell_type": "code",
   "execution_count": 219,
   "metadata": {},
   "outputs": [
    {
     "name": "stdout",
     "output_type": "stream",
     "text": [
      "Maximum asset_utilization in June    81.55454545454545\n"
     ]
    }
   ],
   "source": [
    "max_month_asset_avg = monthly_avg_asset.idxmax()\n",
    "print(\"Maximum asset_utilization in\",max_month_asset_avg,\"  \",monthly_avg_asset.max())"
   ]
  },
  {
   "cell_type": "code",
   "execution_count": 220,
   "metadata": {},
   "outputs": [
    {
     "name": "stdout",
     "output_type": "stream",
     "text": [
      "Minimum asset_utilization in November    77.97317073170731\n"
     ]
    }
   ],
   "source": [
    "min_month_asset_avg = monthly_avg_asset.idxmin()\n",
    "print(\"Minimum asset_utilization in\",min_month_asset_avg,\"  \",monthly_avg_asset.min())"
   ]
  },
  {
   "cell_type": "code",
   "execution_count": 221,
   "metadata": {},
   "outputs": [
    {
     "data": {
      "text/plain": [
       "<Axes: title={'center': 'Monthly Distribution'}, xlabel='Timestamp', ylabel='Asset_utilization'>"
      ]
     },
     "execution_count": 221,
     "metadata": {},
     "output_type": "execute_result"
    },
    {
     "data": {
      "image/png": "[encoded data removed]",
      "text/plain": [
       "<Figure size 1500x500 with 1 Axes>"
      ]
     },
     "metadata": {},
     "output_type": "display_data"
    }
   ],
   "source": [
    "import seaborn as sns\n",
    "import matplotlib.pyplot as plt\n",
    "plt.figure(figsize =(15,5))\n",
    "plt.xlabel(\"Month\")\n",
    "plt.ylabel(\"Asset_utilization\")\n",
    "plt.title(\"Monthly Distribution\")\n",
    "sns.barplot(x = monthly_avg_asset.index,y = monthly_avg_asset.values)\n"
   ]
  },
  {
   "cell_type": "markdown",
   "metadata": {},
   "source": [
    "Asset utilization is maximum in June and minimum in November"
   ]
  },
  {
   "cell_type": "markdown",
   "metadata": {},
   "source": [
    "INVENTORY LEVEL "
   ]
  },
  {
   "cell_type": "code",
   "execution_count": 222,
   "metadata": {},
   "outputs": [
    {
     "name": "stdout",
     "output_type": "stream",
     "text": [
      "AVERAGE INVENTORY LEVEL IN EACH MONTH\n",
      " Timestamp\n",
      "January      296.913043\n",
      "February     297.792208\n",
      "March        303.106383\n",
      "April        314.302326\n",
      "May          271.432432\n",
      "June         313.389610\n",
      "July         265.348837\n",
      "August       290.051948\n",
      "September    294.325301\n",
      "October      318.927711\n",
      "November     305.743902\n",
      "December     301.179775\n",
      "Name: Inventory_level, dtype: float64\n"
     ]
    }
   ],
   "source": [
    "all_months = ['January','February','March','April','May','June','July','August','September','October','November','December']\n",
    "monthly_avg_inv = df.groupby(df['Timestamp'].dt.month_name())['Inventory_level'].mean().reindex(all_months,fill_value=0)\n",
    "print(\"AVERAGE INVENTORY LEVEL IN EACH MONTH\\n\",monthly_avg_inv)"
   ]
  },
  {
   "cell_type": "code",
   "execution_count": 223,
   "metadata": {},
   "outputs": [
    {
     "name": "stdout",
     "output_type": "stream",
     "text": [
      "Maximum inventory_level in October   318.9277108433735\n",
      "Minimum inventory_level in July   265.3488372093023\n"
     ]
    },
    {
     "data": {
      "image/png": "[encoded data removed]",
      "text/plain": [
       "<Figure size 1500x500 with 1 Axes>"
      ]
     },
     "metadata": {},
     "output_type": "display_data"
    }
   ],
   "source": [
    "import seaborn as sns\n",
    "import matplotlib.pyplot as plt\n",
    "plt.figure(figsize =(15,5))\n",
    "plt.xlabel(\"Month\")\n",
    "plt.ylabel(\"Inventory level\")\n",
    "plt.title(\"Monthly Distribution\")\n",
    "sns.barplot(x = monthly_avg_inv.index,y = monthly_avg_inv.values)\n",
    "max_month_asset_avg = monthly_avg_inv.idxmax()\n",
    "print(\"Maximum inventory_level in\",max_month_asset_avg,\" \",monthly_avg_inv.max())\n",
    "min_month_asset_avg = monthly_avg_inv.idxmin()\n",
    "print(\"Minimum inventory_level in\",min_month_asset_avg,\" \",monthly_avg_inv.min())\n"
   ]
  },
  {
   "cell_type": "markdown",
   "metadata": {},
   "source": [
    "TRAFFIC STATUS"
   ]
  },
  {
   "cell_type": "code",
   "execution_count": 224,
   "metadata": {},
   "outputs": [
    {
     "name": "stdout",
     "output_type": "stream",
     "text": [
      "heavy     327\n",
      "detour    124\n",
      "clear     115\n",
      "Name: Traffic_status, dtype: int64\n"
     ]
    }
   ],
   "source": [
    "delay_counts = df[df['Logistics_delay'] == 1]['Traffic_status'].value_counts()\n",
    "print(delay_counts)"
   ]
  },
  {
   "cell_type": "code",
   "execution_count": 225,
   "metadata": {},
   "outputs": [
    {
     "data": {
      "image/png": "[encoded data removed]",
      "text/plain": [
       "<Figure size 800x600 with 1 Axes>"
      ]
     },
     "metadata": {},
     "output_type": "display_data"
    }
   ],
   "source": [
    "import matplotlib.pyplot as plt\n",
    "\n",
    "# Plot pie chart\n",
    "plt.figure(figsize=(8, 6))\n",
    "delay_counts.plot(kind='pie',autopct='%1.1f%%' ,startangle=90)\n",
    "\n",
    "plt.ylabel('')  # Hide y-label\n",
    "plt.title(\"Proportion of Delays by Traffic Status\")\n",
    "plt.show()\n",
    "\n"
   ]
  },
  {
   "cell_type": "markdown",
   "metadata": {},
   "source": [
    "Heavy traffic also leads to logistics delays, making it a priority area for optimization."
   ]
  },
  {
   "cell_type": "markdown",
   "metadata": {},
   "source": [
    "SHIPMENT STATUS AND ASSET UTILIZATION"
   ]
  },
  {
   "cell_type": "code",
   "execution_count": 226,
   "metadata": {},
   "outputs": [
    {
     "name": "stdout",
     "output_type": "stream",
     "text": [
      "Shipment_status\n",
      "delayed       350\n",
      "delivered     338\n",
      "in transit    312\n",
      "Name: Asset_utilization, dtype: int64\n"
     ]
    }
   ],
   "source": [
    "asset_utilization_count = df.groupby(\"Shipment_status\")[\"Asset_utilization\"].count()\n",
    "print(asset_utilization_count)\n"
   ]
  },
  {
   "cell_type": "markdown",
   "metadata": {},
   "source": [
    "The higher asset usage in **delayed shipments** (350) suggests inefficiencies or issues, while **delivered** (338) and **in-transit** (312) shipments show slightly lower engagement, indicating potential overuse or poor management in delays."
   ]
  },
  {
   "cell_type": "markdown",
   "metadata": {},
   "source": [
    "ASSET UTILIZATION IN DIFFERENT TRAFFIC STATUS"
   ]
  },
  {
   "cell_type": "code",
   "execution_count": 227,
   "metadata": {},
   "outputs": [
    {
     "name": "stdout",
     "output_type": "stream",
     "text": [
      "Traffic_status\n",
      "clear     79.249085\n",
      "detour    79.432464\n",
      "heavy     80.125994\n",
      "Name: Asset_utilization, dtype: float64\n"
     ]
    }
   ],
   "source": [
    "asset_utilization_by_traffic = df.groupby(\"Traffic_status\")[\"Asset_utilization\"].mean()\n",
    "\n",
    "print(asset_utilization_by_traffic)"
   ]
  },
  {
   "cell_type": "markdown",
   "metadata": {},
   "source": [
    "Despite varying traffic conditions, assets are being utilized similarly across the conditions. Even in Heavy Traffic, assets seem to be put to good use."
   ]
  },
  {
   "cell_type": "markdown",
   "metadata": {},
   "source": [
    "ASSET USAGE COUNT"
   ]
  },
  {
   "cell_type": "code",
   "execution_count": 228,
   "metadata": {},
   "outputs": [
    {
     "name": "stdout",
     "output_type": "stream",
     "text": [
      "Asset_id\n",
      "truck_1      89\n",
      "truck_10    105\n",
      "truck_2     105\n",
      "truck_3      93\n",
      "truck_4     107\n",
      "truck_5      93\n",
      "truck_6     103\n",
      "truck_7     102\n",
      "truck_8     109\n",
      "truck_9      94\n",
      "dtype: int64\n"
     ]
    },
    {
     "data": {
      "text/plain": [
       "109"
      ]
     },
     "execution_count": 228,
     "metadata": {},
     "output_type": "execute_result"
    }
   ],
   "source": [
    "asset_usage_count = df.groupby('Asset_id').size()\n",
    "print(asset_usage_count)\n",
    "asset_usage_count.max()"
   ]
  },
  {
   "cell_type": "code",
   "execution_count": 229,
   "metadata": {},
   "outputs": [
    {
     "name": "stdout",
     "output_type": "stream",
     "text": [
      "The maximum used truck (Asset_ID) is: truck_8\n",
      "It has been used 109 times.\n"
     ]
    }
   ],
   "source": [
    "max_used_asset = asset_usage_count.idxmax()\n",
    "\n",
    "max_usage_count = asset_usage_count.max()\n",
    "\n",
    "print(f\"The maximum used truck (Asset_ID) is: {max_used_asset}\")\n",
    "print(f\"It has been used {max_usage_count} times.\")"
   ]
  },
  {
   "cell_type": "code",
   "execution_count": 230,
   "metadata": {},
   "outputs": [
    {
     "data": {
      "image/png": "[encoded data removed]",
      "text/plain": [
       "<Figure size 1200x600 with 1 Axes>"
      ]
     },
     "metadata": {},
     "output_type": "display_data"
    }
   ],
   "source": [
    "plt.figure(figsize=(12, 6))\n",
    "asset_usage_count.plot(kind='line', marker='o', linestyle='-')\n",
    "\n",
    "plt.xlabel('Asset ID')\n",
    "plt.ylabel('Usage Count')\n",
    "plt.title('Asset Usage Count')\n",
    "plt.xticks(rotation=90)\n",
    "plt.grid(True, linestyle='--', alpha=0.6)\n",
    "plt.show()\n"
   ]
  },
  {
   "cell_type": "markdown",
   "metadata": {},
   "source": [
    "## INSIGHT:"
   ]
  },
  {
   "cell_type": "markdown",
   "metadata": {},
   "source": [
    "\n",
    "1. **Asset Utilization** is highest in **delayed shipments** (350), indicating inefficiencies in handling delays. **Truck_8**, the most used asset (109 times), may be a key contributor to these inefficiencies, highlighting potential overuse or under-maintenance of critical assets.\n",
    "\n",
    "2. **Temperature and Humidity** have minimal impact on delays, as values remain consistent across shipment statuses, suggesting that environmental factors are not major contributors.\n",
    "\n",
    "3. **Waiting Times** show only minor variation across shipment statuses, indicating that delays are likely influenced more by traffic and asset management.\n",
    "\n",
    "4. **Heavy Traffic** is the primary cause of delays, with consistent waiting times across traffic conditions, emphasizing the need for traffic optimization.\n",
    "\n",
    "5. **Asset Utilization** peaks in **June** (maximum) and drops in **November** (minimum), highlighting potential inefficiencies in certain months.\n",
    "\n",
    "6. **Inventory Levels** are highest in **October** and lowest in **July**, suggesting seasonal fluctuations in inventory management that may affect supply chain performance.\n",
    "\n",
    "7. **User Purchase Frequency** and **Transaction Amounts** vary, with peak transactions reaching 500, showing demand fluctuations that could impact logistics planning.\n",
    "\n",
    "8. **Demand Forecast** is highest in **January** and lowest in **May**, suggesting seasonal impacts on logistics planning.\n"
   ]
  },
  {
   "cell_type": "markdown",
   "metadata": {},
   "source": [
    "## SUGGESTIONS:"
   ]
  },
  {
   "cell_type": "markdown",
   "metadata": {},
   "source": [
    "1. Conduct regular maintenance and rotate usage of high-utilization assets like **Truck_8** to prevent overuse and breakdowns.  \n",
    "\n",
    "2. Use real-time traffic data and route optimization tools to minimize delays caused by heavy traffic.  \n",
    "\n",
    "3. Adjust asset allocation and hire temporary resources during peak months like June to balance utilization.  \n",
    "\n",
    "4. Align inventory with demand forecasts to avoid overstocking in October and stockouts in July.  \n",
    "\n",
    "5. Use advanced forecasting tools to plan for high demand in January and low demand in May.    \n",
    "\n",
    "6. Use IoT sensors to monitor temperature and humidity for sensitive shipments, even though their impact on delays is minimal.  \n",
    "\n",
    "7. Streamline loading/unloading processes and use automated scheduling tools to minimize idle time.  \n",
    "\n",
    "8. Invest in AI, machine learning, and warehouse automation to improve efficiency and reduce manual errors."
   ]
  },
  {
   "cell_type": "markdown",
   "metadata": {},
   "source": []
  }
 ],
 "metadata": {
  "kernelspec": {
   "display_name": "base",
   "language": "python",
   "name": "python3"
  },
  "language_info": {
   "codemirror_mode": {
    "name": "ipython",
    "version": 3
   },
   "file_extension": ".py",
   "mimetype": "text/x-python",
   "name": "python",
   "nbconvert_exporter": "python",
   "pygments_lexer": "ipython3",
   "version": "3.10.9"
  }
 },
 "nbformat": 4,
 "nbformat_minor": 2
}
